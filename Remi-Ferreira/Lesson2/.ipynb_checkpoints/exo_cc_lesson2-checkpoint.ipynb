{
 "cells": [
  {
   "cell_type": "code",
   "execution_count": 11,
   "metadata": {},
   "outputs": [],
   "source": [
    "from bs4 import BeautifulSoup\n",
    "from urllib.request import urlopen\n",
    "import pandas as pd"
   ]
  },
  {
   "cell_type": "code",
   "execution_count": 16,
   "metadata": {},
   "outputs": [],
   "source": [
    "path_acer = \"https://www.cdiscount.com/search/10/pc+portable.html?TechnicalForm.SiteMapNodeId=0&TechnicalForm.DepartmentId=10&TechnicalForm.ProductId=&hdnPageType=Search&TechnicalForm.ContentTypeId=16&TechnicalForm.SellerId=&TechnicalForm.PageType=SEARCH_AJAX&TechnicalForm.LazyLoading.ProductSheets=False&NavigationForm.CurrentSelectedNavigationPath=0&FacetForm.SelectedFacets.Index=0&FacetForm.SelectedFacets.Index=1&FacetForm.SelectedFacets.Index=2&FacetForm.SelectedFacets.Index=3&FacetForm.SelectedFacets%5B3%5D=f%2F6%2Facer&FacetForm.SelectedFacets.Index=4&FacetForm.SelectedFacets.Index=5&FacetForm.SelectedFacets.Index=6&FacetForm.SelectedFacets.Index=7&FacetForm.SelectedFacets.Index=8&FacetForm.SelectedFacets.Index=9&FacetForm.SelectedFacets.Index=10&FacetForm.SelectedFacets.Index=11&FacetForm.SelectedFacets.Index=12&FacetForm.SelectedFacets.Index=13&FacetForm.SelectedFacets.Index=14&FacetForm.SelectedFacets.Index=15&FacetForm.SelectedFacets.Index=16&FacetForm.SelectedFacets.Index=17&FacetForm.SelectedFacets.Index=18&SortForm.SelectedNavigationPath=&ProductListTechnicalForm.Keyword=pc%2Bportable&&_his_\"\n",
    "\n",
    "path_dell = \"https://www.cdiscount.com/search/10/pc+portable.html?TechnicalForm.SiteMapNodeId=0&TechnicalForm.DepartmentId=10&TechnicalForm.ProductId=&hdnPageType=Search&TechnicalForm.ContentTypeId=16&TechnicalForm.SellerId=&TechnicalForm.PageType=SEARCH_AJAX&TechnicalForm.LazyLoading.ProductSheets=False&NavigationForm.CurrentSelectedNavigationPath=0&FacetForm.SelectedFacets.Index=0&FacetForm.SelectedFacets.Index=1&FacetForm.SelectedFacets.Index=2&FacetForm.SelectedFacets.Index=3&FacetForm.SelectedFacets%5B3%5D=f%2F6%2Fdell&FacetForm.SelectedFacets.Index=4&FacetForm.SelectedFacets.Index=5&FacetForm.SelectedFacets.Index=6&FacetForm.SelectedFacets.Index=7&FacetForm.SelectedFacets.Index=8&FacetForm.SelectedFacets.Index=9&FacetForm.SelectedFacets.Index=10&FacetForm.SelectedFacets.Index=11&FacetForm.SelectedFacets.Index=12&FacetForm.SelectedFacets.Index=13&FacetForm.SelectedFacets.Index=14&FacetForm.SelectedFacets.Index=15&FacetForm.SelectedFacets.Index=16&FacetForm.SelectedFacets.Index=17&FacetForm.SelectedFacets.Index=18&FacetForm.SelectedFacets.Index=19&SortForm.SelectedNavigationPath=&ProductListTechnicalForm.Keyword=pc%2Bportable&&_his_\"\n",
    "https://www.cdiscount.com/search/10/acer.html?TechnicalForm.SiteMapNodeId=0&TechnicalForm.DepartmentId=10&TechnicalForm.ProductId=&hdnPageType=Search&TechnicalForm.ContentTypeId=16&TechnicalForm.SellerId=&TechnicalForm.PageType=SEARCH_AJAX&TechnicalForm.LazyLoading.ProductSheets=False&NavigationForm.CurrentSelectedNavigationPath=0&FacetForm.SelectedFacets.Index=0&FacetForm.SelectedFacets.Index=1&FacetForm.SelectedFacets.Index=2&FacetForm.SelectedFacets.Index=3&FacetForm.SelectedFacets.Index=4&FacetForm.SelectedFacets.Index=5&FacetForm.SelectedFacets.Index=6&FacetForm.SelectedFacets.Index=7&FacetForm.SelectedFacets.Index=8&SortForm.SelectedNavigationPath=&ProductListTechnicalForm.Keyword=acer&page=\"3&_his_#_his_"
   ]
  },
  {
   "cell_type": "code",
   "execution_count": 17,
   "metadata": {},
   "outputs": [],
   "source": [
    "soup_acer = BeautifulSoup(urlopen(path_acer), 'html.parser')\n",
    "soup_dell = BeautifulSoup(urlopen(path_dell), 'html.parser')"
   ]
  },
  {
   "cell_type": "code",
   "execution_count": 19,
   "metadata": {},
   "outputs": [],
   "source": [
    "extracted_values_acer = soup_acer.findAll(\"div\", { \"class\" : \"prdtPrSt\" })\n",
    "extracted_values_dell = soup_dell.findAll(\"div\", { \"class\" : \"prdtPrSt\" })"
   ]
  },
  {
   "cell_type": "code",
   "execution_count": 20,
   "metadata": {},
   "outputs": [],
   "source": [
    "total_nombre_promo_acer = len(extracted_values_acer[2:])\n",
    "total_nombre_promo_dell = len(extracted_values_dell[2:])"
   ]
  },
  {
   "cell_type": "code",
   "execution_count": 21,
   "metadata": {},
   "outputs": [
    {
     "name": "stdout",
     "output_type": "stream",
     "text": [
      "23\n",
      "23\n"
     ]
    }
   ],
   "source": [
    "print(total_nombre_promo_acer)\n",
    "print(total_nombre_promo_dell)"
   ]
  },
  {
   "cell_type": "code",
   "execution_count": 23,
   "metadata": {},
   "outputs": [
    {
     "data": {
      "text/plain": [
       "[<div class=\"prdtPrSt\">867,89</div>,\n",
       " <div class=\"prdtPrSt\">299,00</div>,\n",
       " <div class=\"prdtPrSt\">549,88</div>,\n",
       " <div class=\"prdtPrSt\">599,00</div>,\n",
       " <div class=\"prdtPrSt\">349,00</div>,\n",
       " <div class=\"prdtPrSt\">599,00</div>,\n",
       " <div class=\"prdtPrSt\">429,00</div>,\n",
       " <div class=\"prdtPrSt\">299,00</div>,\n",
       " <div class=\"prdtPrSt\">699,00</div>,\n",
       " <div class=\"prdtPrSt\">499,00</div>,\n",
       " <div class=\"prdtPrSt\">649,00</div>,\n",
       " <div class=\"prdtPrSt\">499,00</div>,\n",
       " <div class=\"prdtPrSt\">479,00</div>,\n",
       " <div class=\"prdtPrSt\">699,99</div>,\n",
       " <div class=\"prdtPrSt\">336,92</div>,\n",
       " <div class=\"prdtPrSt\">399,00</div>,\n",
       " <div class=\"prdtPrSt\">799,00</div>,\n",
       " <div class=\"prdtPrSt\">918,99</div>,\n",
       " <div class=\"prdtPrSt\">349,00</div>,\n",
       " <div class=\"prdtPrSt\">682,04</div>,\n",
       " <div class=\"prdtPrSt\">428,99</div>,\n",
       " <div class=\"prdtPrSt\">299,99</div>,\n",
       " <div class=\"prdtPrSt\">272,23</div>,\n",
       " <div class=\"prdtPrSt\">525,55</div>,\n",
       " <div class=\"prdtPrSt\">449,00</div>]"
      ]
     },
     "execution_count": 23,
     "metadata": {},
     "output_type": "execute_result"
    }
   ],
   "source": [
    "extracted_values_acer\n",
    "#extracted_values_dell"
   ]
  },
  {
   "cell_type": "code",
   "execution_count": 28,
   "metadata": {},
   "outputs": [],
   "source": [
    "path_acer = \"https://www.cdiscount.com/search/10/acer.html?TechnicalForm.SiteMapNodeId=0&TechnicalForm.DepartmentId=10&TechnicalForm.ProductId=&hdnPageType=Search&TechnicalForm.ContentTypeId=16&TechnicalForm.SellerId=&TechnicalForm.PageType=SEARCH_AJAX&TechnicalForm.LazyLoading.ProductSheets=False&NavigationForm.CurrentSelectedNavigationPath=0&FacetForm.SelectedFacets.Index=0&FacetForm.SelectedFacets.Index=1&FacetForm.SelectedFacets.Index=2&FacetForm.SelectedFacets.Index=3&FacetForm.SelectedFacets.Index=4&FacetForm.SelectedFacets.Index=5&FacetForm.SelectedFacets.Index=6&FacetForm.SelectedFacets.Index=7&FacetForm.SelectedFacets.Index=8&SortForm.SelectedNavigationPath=&ProductListTechnicalForm.Keyword=acer&page=\"\n",
    "path_dell = \"https://www.cdiscount.com/search/10/dell.html?TechnicalForm.SiteMapNodeId=0&TechnicalForm.DepartmentId=10&TechnicalForm.ProductId=&hdnPageType=Search&TechnicalForm.ContentTypeId=16&TechnicalForm.SellerId=&TechnicalForm.PageType=SEARCH_AJAX&TechnicalForm.LazyLoading.ProductSheets=False&NavigationForm.CurrentSelectedNavigationPath=0&FacetForm.SelectedFacets.Index=0&FacetForm.SelectedFacets.Index=1&FacetForm.SelectedFacets.Index=2&FacetForm.SelectedFacets.Index=3&FacetForm.SelectedFacets.Index=4&FacetForm.SelectedFacets.Index=5&FacetForm.SelectedFacets.Index=6&FacetForm.SelectedFacets.Index=7&FacetForm.SelectedFacets.Index=8&SortForm.SelectedNavigationPath=&ProductListTechnicalForm.Keyword=acer&page=\"\n",
    "\n",
    "\n",
    "def count_promotions(path_cdiscount, number_of_pages = 10):\n",
    "    counter = 0\n",
    "    for i in range(1,number_of_pages):\n",
    "        path_cdiscount = path_cdiscount + str(i) + \"&_his_#_his_\"\n",
    "        soup = BeautifulSoup(urlopen(path_cdiscount), 'html.parser')\n",
    "        extracted_values = soup.findAll(\"div\", { \"class\" : \"prdtPrSt\" })\n",
    "        counter = counter + len(extracted_values)\n",
    "    return counter\n",
    "\n",
    "\n",
    "\n",
    "        "
   ]
  },
  {
   "cell_type": "code",
   "execution_count": 29,
   "metadata": {},
   "outputs": [],
   "source": [
    "count_acer = count_promotions(path_acer, 20)"
   ]
  },
  {
   "cell_type": "code",
   "execution_count": 30,
   "metadata": {},
   "outputs": [],
   "source": [
    "count_dell = count_promotions(path_dell, 20)"
   ]
  },
  {
   "cell_type": "code",
   "execution_count": 31,
   "metadata": {},
   "outputs": [
    {
     "name": "stdout",
     "output_type": "stream",
     "text": [
      "Il y a  931  promos acer\n",
      "Il y a  539  promos dell\n"
     ]
    }
   ],
   "source": [
    "print(\"Il y a \", count_acer, \" promos acer\")\n",
    "print(\"Il y a \", count_dell, \" promos dell\")"
   ]
  },
  {
   "cell_type": "code",
   "execution_count": null,
   "metadata": {},
   "outputs": [],
   "source": []
  }
 ],
 "metadata": {
  "kernelspec": {
   "display_name": "StarterKit_venv3",
   "language": "python",
   "name": "starterkit_venv3"
  },
  "language_info": {
   "codemirror_mode": {
    "name": "ipython",
    "version": 3
   },
   "file_extension": ".py",
   "mimetype": "text/x-python",
   "name": "python",
   "nbconvert_exporter": "python",
   "pygments_lexer": "ipython3",
   "version": "3.6.2"
  }
 },
 "nbformat": 4,
 "nbformat_minor": 2
}
